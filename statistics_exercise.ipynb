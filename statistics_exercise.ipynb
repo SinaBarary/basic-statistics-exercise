{
 "cells": [
  {
   "cell_type": "code",
   "execution_count": 1,
   "id": "c76e4295",
   "metadata": {},
   "outputs": [
    {
     "name": "stdout",
     "output_type": "stream",
     "text": [
      "           Name  Gender  Age  Experience    Salary\n",
      "0      Person_0    Male   53           7  15672277\n",
      "1      Person_1  Female   53          15  14537777\n",
      "2      Person_2    Male   25          13  15293028\n",
      "3      Person_3    Male   51          11  12680970\n",
      "4      Person_4    Male   58          22  15073530\n",
      "..          ...     ...  ...         ...       ...\n",
      "195  Person_195  Female   34           2  20726202\n",
      "196  Person_196  Female   28          12  17113374\n",
      "197  Person_197  Female   57          27  13521929\n",
      "198  Person_198    Male   41          24  18603641\n",
      "199  Person_199    Male   22          32  13775773\n",
      "\n",
      "[200 rows x 5 columns]\n",
      "Index(['Name', 'Gender', 'Age', 'Experience', 'Salary'], dtype='object')\n"
     ]
    }
   ],
   "source": [
    "#read data\n",
    "import pandas as pd\n",
    "\n",
    "dataset = pd.read_csv('D:\\\\A_I\\\\Exercise_StateAndPosibility\\\\salary_data.csv')\n",
    "print(dataset)\n",
    "print(dataset.columns)\n"
   ]
  },
  {
   "cell_type": "code",
   "execution_count": 3,
   "id": "3c4adbfa",
   "metadata": {},
   "outputs": [
    {
     "name": "stdout",
     "output_type": "stream",
     "text": [
      "mean age is :  42.06\n",
      "mean exp is :  17.665\n",
      "mean salary is :  14619422.635\n",
      "median age is :  44.0\n",
      "median exp is :  18.0\n",
      "median salary is :  14535372.5\n",
      "mode age is :  ModeResult(mode=54, count=14)\n",
      "mode exp is :  ModeResult(mode=11, count=12)\n",
      "mode salary is :  ModeResult(mode=7585066, count=1)\n",
      "variance age is :  130.5864\n",
      "variance exp is :  101.35277500000001\n",
      "variance salary is :  9316963403921.572\n",
      "std age is :  11.427440658345157\n",
      "std exp is :  10.067411534252487\n",
      "std salary is :  3052370.12891975\n",
      "range age is :  37\n",
      "range exp is :  34\n",
      "range salary is :  16151576\n"
     ]
    }
   ],
   "source": [
    "# calculate Descriptive Statistics\n",
    "import numpy as np\n",
    "from scipy import stats\n",
    "\n",
    "# Mean\n",
    "mean_age, mean_exp, mean_salary  = np.mean(dataset['Age']), np.mean(dataset['Experience']), np.mean(dataset['Salary'])\n",
    "print('mean age is : ',mean_age)\n",
    "print('mean exp is : ',mean_exp)\n",
    "print('mean salary is : ',mean_salary)\n",
    "\n",
    "# Median\n",
    "median_age, median_exp, median_salary = np.median(dataset['Age']), np.median(dataset['Experience']), np.median(dataset['Salary'])\n",
    "print('median age is : ',median_age)\n",
    "print('median exp is : ',median_exp)\n",
    "print('median salary is : ',median_salary)\n",
    "\n",
    "# Mode\n",
    "mode_age, mode_exp, mode_salary = stats.mode(dataset['Age']), stats.mode(dataset['Experience']), stats.mode(dataset['Salary'])\n",
    "print('mode age is : ',mode_age)\n",
    "print('mode exp is : ',mode_exp)\n",
    "print('mode salary is : ',mode_salary)\n",
    "\n",
    "# Variance\n",
    "var_age, var_exp, var_salary = np.var(dataset['Age']), np.var(dataset['Experience']), np.var(dataset['Salary'])\n",
    "print('variance age is : ',var_age)\n",
    "print('variance exp is : ',var_exp)\n",
    "print('variance salary is : ',var_salary)\n",
    "\n",
    "# Std\n",
    "std_age, std_exp, std_salary = np.std(dataset['Age']), np.std(dataset['Experience']), np.std(dataset['Salary'])\n",
    "print('std age is : ',std_age)\n",
    "print('std exp is : ',std_exp)\n",
    "print('std salary is : ',std_salary)\n",
    "\n",
    "# Range\n",
    "range_age, range_exp, range_salary = np.ptp(dataset['Age']), np.ptp(dataset['Experience']), np.ptp(dataset['Salary'])\n",
    "print('range age is : ',range_age)\n",
    "print('range exp is : ',range_exp)\n",
    "print('range salary is : ',range_salary)\n",
    "\n"
   ]
  },
  {
   "cell_type": "code",
   "execution_count": 5,
   "id": "339b049f",
   "metadata": {},
   "outputs": [
    {
     "name": "stdout",
     "output_type": "stream",
     "text": [
      "The correlation is :  -0.0037634818112890125\n"
     ]
    }
   ],
   "source": [
    "# Correlation\n",
    "cor_sal_exp = dataset['Salary'].corr(dataset['Experience'])\n",
    "print('The correlation is : ', cor_sal_exp)"
   ]
  },
  {
   "cell_type": "code",
   "execution_count": 20,
   "id": "12f1b3b0",
   "metadata": {},
   "outputs": [
    {
     "name": "stdout",
     "output_type": "stream",
     "text": [
      "TtestResult(statistic=1.2366462674522274, pvalue=0.2176832691837378, df=198.0)\n",
      "the mean Salary is equal\n"
     ]
    }
   ],
   "source": [
    "# Hypothesis Testing\n",
    "male_dataset = dataset[dataset['Gender'] == 'Male']\n",
    "female_dataset = dataset[dataset['Gender'] == 'Female']\n",
    "ttest = (stats.ttest_ind(male_dataset['Salary'], female_dataset['Salary']))\n",
    "print(ttest)\n",
    "p_value = ttest[1]\n",
    "if p_value < 0.05 :\n",
    "    print('the mean Salary is not equal')\n",
    "else:\n",
    "    print('the mean Salary is equal')\n",
    " "
   ]
  },
  {
   "cell_type": "code",
   "execution_count": 19,
   "id": "d539be66",
   "metadata": {},
   "outputs": [
    {
     "data": {
      "image/png": "[encoded data removed]",
      "text/plain": [
       "<Figure size 1000x500 with 1 Axes>"
      ]
     },
     "metadata": {},
     "output_type": "display_data"
    },
    {
     "data": {
      "image/png": "[encoded data removed]",
      "text/plain": [
       "<Figure size 640x480 with 1 Axes>"
      ]
     },
     "metadata": {},
     "output_type": "display_data"
    }
   ],
   "source": [
    "# draw Chart\n",
    "import matplotlib.pyplot as plt\n",
    "plt.figure(figsize=(10,5))\n",
    "plt.hist(dataset['Salary'], bins= 20)\n",
    "plt.show()\n",
    "sal_gender = [male_dataset['Salary'], female_dataset['Salary']]\n",
    "plt.boxplot(sal_gender)\n",
    "plt.xticks([1, 2], ['Male', 'Female'])\n",
    "plt.show()\n"
   ]
  }
 ],
 "metadata": {
  "kernelspec": {
   "display_name": "Python 3",
   "language": "python",
   "name": "python3"
  },
  "language_info": {
   "codemirror_mode": {
    "name": "ipython",
    "version": 3
   },
   "file_extension": ".py",
   "mimetype": "text/x-python",
   "name": "python",
   "nbconvert_exporter": "python",
   "pygments_lexer": "ipython3",
   "version": "3.10.0"
  }
 },
 "nbformat": 4,
 "nbformat_minor": 5
}
